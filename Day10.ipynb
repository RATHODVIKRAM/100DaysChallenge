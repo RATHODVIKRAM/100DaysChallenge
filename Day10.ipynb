{
 "cells": [
  {
   "cell_type": "code",
   "execution_count": 8,
   "id": "a48f5bdf-e84c-4100-b76a-e77d342fb0f7",
   "metadata": {},
   "outputs": [
    {
     "name": "stdin",
     "output_type": "stream",
     "text": [
      "Enter a number (or press Enter to finish):  1\n",
      "Enter a number (or press Enter to finish):  2\n",
      "Enter a number (or press Enter to finish):  3\n",
      "Enter a number (or press Enter to finish):  4\n",
      "Enter a number (or press Enter to finish):  5\n",
      "Enter a number (or press Enter to finish):  5\n",
      "Enter a number (or press Enter to finish):  6\n",
      "Enter a number (or press Enter to finish):  6\n",
      "Enter a number (or press Enter to finish):  787\n",
      "Enter a number (or press Enter to finish):  67\n",
      "Enter a number (or press Enter to finish):  5\n",
      "Enter a number (or press Enter to finish):  6\n",
      "Enter a number (or press Enter to finish):  67\n",
      "Enter a number (or press Enter to finish):  g\n"
     ]
    },
    {
     "name": "stdout",
     "output_type": "stream",
     "text": [
      "Invalid input! Please enter a valid number.\n"
     ]
    },
    {
     "name": "stdin",
     "output_type": "stream",
     "text": [
      "Enter a number (or press Enter to finish):  f\n"
     ]
    },
    {
     "name": "stdout",
     "output_type": "stream",
     "text": [
      "Invalid input! Please enter a valid number.\n"
     ]
    },
    {
     "name": "stdin",
     "output_type": "stream",
     "text": [
      "Enter a number (or press Enter to finish):  \n"
     ]
    },
    {
     "name": "stdout",
     "output_type": "stream",
     "text": [
      "list of elements: [1.0, 2.0, 3.0, 4.0, 5.0, 5.0, 6.0, 6.0, 787.0, 67.0, 5.0, 6.0, 67.0]\n"
     ]
    },
    {
     "name": "stdin",
     "output_type": "stream",
     "text": [
      "enter lower number 1\n",
      "enter highest number 100\n"
     ]
    },
    {
     "name": "stdout",
     "output_type": "stream",
     "text": [
      "The number of elements within a range of 1,100 = 12\n"
     ]
    }
   ],
   "source": [
    "# Write a Python program to count the number of elements in a list within a specified range.\n",
    "\n",
    "def get_numbers_from_user():\n",
    "    global numbers_list\n",
    "    numbers_list = []\n",
    "    while True:\n",
    "        try:\n",
    "            user_input = input(\"Enter a number (or press Enter to finish): \")\n",
    "            if user_input == \"\":\n",
    "                break\n",
    "            number = float(user_input)\n",
    "            numbers_list.append(number)\n",
    "        except ValueError:\n",
    "            print(\"Invalid input! Please enter a valid number.\")\n",
    "    return numbers_list\n",
    "def count_number():\n",
    "    lower_limit = int(input(\"enter lower number\"))\n",
    "    highest_limit = int(input(\"enter highest number\"))\n",
    "    count = 0\n",
    "    for i in numbers_list:\n",
    "        if lower_limit<=i<=highest_limit:\n",
    "            count+=1\n",
    "    print(\"The number of elements within a range of {},{} = {}\".format(lower_limit,highest_limit,count))\n",
    "\n",
    "#main program\n",
    "li = get_numbers_from_user()\n",
    "print(\"list of elements: {}\".format(li))\n",
    "count_number()"
   ]
  },
  {
   "cell_type": "code",
   "execution_count": null,
   "id": "10c0e5ce-5544-46d7-83a3-0bc98278cc5e",
   "metadata": {},
   "outputs": [],
   "source": []
  }
 ],
 "metadata": {
  "kernelspec": {
   "display_name": "Python 3 (ipykernel)",
   "language": "python",
   "name": "python3"
  },
  "language_info": {
   "codemirror_mode": {
    "name": "ipython",
    "version": 3
   },
   "file_extension": ".py",
   "mimetype": "text/x-python",
   "name": "python",
   "nbconvert_exporter": "python",
   "pygments_lexer": "ipython3",
   "version": "3.12.4"
  }
 },
 "nbformat": 4,
 "nbformat_minor": 5
}
