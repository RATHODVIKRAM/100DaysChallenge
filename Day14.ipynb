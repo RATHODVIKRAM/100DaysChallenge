{
 "cells": [
  {
   "cell_type": "code",
   "execution_count": 3,
   "id": "9fe1b240-1aac-4a21-948b-78d60902bb80",
   "metadata": {},
   "outputs": [
    {
     "name": "stdin",
     "output_type": "stream",
     "text": [
      "Enter a word (or press Enter to finish):  apple\n",
      "Enter a word (or press Enter to finish):  apple1\n"
     ]
    },
    {
     "name": "stdout",
     "output_type": "stream",
     "text": [
      "Error: Numbers are not allowed in words\n"
     ]
    },
    {
     "name": "stdin",
     "output_type": "stream",
     "text": [
      "Enter a word (or press Enter to finish):  @banana\n"
     ]
    },
    {
     "name": "stdout",
     "output_type": "stream",
     "text": [
      "Error: Special characters are not allowed\n"
     ]
    },
    {
     "name": "stdin",
     "output_type": "stream",
     "text": [
      "Enter a word (or press Enter to finish):  c a t\n"
     ]
    },
    {
     "name": "stdout",
     "output_type": "stream",
     "text": [
      "Error: Spaces are not allowed\n"
     ]
    },
    {
     "name": "stdin",
     "output_type": "stream",
     "text": [
      "Enter a word (or press Enter to finish):  banana\n",
      "Enter a word (or press Enter to finish):  cat\n",
      "Enter a word (or press Enter to finish):  ajay\n",
      "Enter a word (or press Enter to finish):  vikram\n",
      "Enter a word (or press Enter to finish):  ball\n",
      "Enter a word (or press Enter to finish):  cap\n",
      "Enter a word (or press Enter to finish):  victor\n",
      "Enter a word (or press Enter to finish):  \n"
     ]
    },
    {
     "name": "stdout",
     "output_type": "stream",
     "text": [
      "list of values: ['apple', 'banana', 'cat', 'ajay', 'vikram', 'ball', 'cap', 'victor']\n",
      "\n",
      "Words starting with 'a':\n",
      "  - apple\n",
      "  - ajay\n",
      "\n",
      "Words starting with 'b':\n",
      "  - banana\n",
      "  - ball\n",
      "\n",
      "Words starting with 'c':\n",
      "  - cat\n",
      "  - cap\n",
      "\n",
      "Words starting with 'v':\n",
      "  - vikram\n",
      "  - victor\n"
     ]
    }
   ],
   "source": [
    "# Write a Python program to split a list based on first character of word.\n",
    "\n",
    "\n",
    "def user_list():\n",
    "    word_list = []\n",
    "\n",
    "    while True:\n",
    "        try:\n",
    "            user_input = input(\"Enter a word (or press Enter to finish): \").strip()\n",
    "            # Check for empty input to end\n",
    "            if user_input == \"\":\n",
    "                break\n",
    "            # Check for spaces\n",
    "            if ' ' in user_input:\n",
    "                print(\"Error: Spaces are not allowed\")\n",
    "                continue\n",
    "            # Check for numbers\n",
    "            if any(char.isdigit() for char in user_input):\n",
    "                print(\"Error: Numbers are not allowed in words\")\n",
    "                continue\n",
    "            # Check for special characters\n",
    "            special_chars = set(\"!@#$%^&*()_+-={}[]|\\\\:;\\\"'<>?,./`~\")\n",
    "            found_special = [char for char in user_input if char in special_chars]\n",
    "            if found_special:\n",
    "                print(f\"Error: Special characters are not allowed\")\n",
    "                continue\n",
    "            # If all checks pass, verify it's only letters\n",
    "            if not user_input.isalpha():\n",
    "                print(\"Error: Only letters are allowed\")\n",
    "                continue\n",
    "            # Add valid word to list\n",
    "            word_list.append(user_input.lower())\n",
    "        except Exception as e:\n",
    "            print(\"An error occurred: {}\".format(str(e)))\n",
    "            continue\n",
    "\n",
    "    return word_list\n",
    "\n",
    "def split_by_first_char(word_list):\n",
    "    result = {}\n",
    "    for word in word_list:\n",
    "        first_char = word[0].lower()\n",
    "        if first_char not in result:\n",
    "            result[first_char] = []\n",
    "        result[first_char].append(word)\n",
    "    for char, word_list in sorted(result.items()):\n",
    "        print(f\"\\nWords starting with '{char}':\")\n",
    "        for word in word_list:\n",
    "            print(f\"  - {word}\")\n",
    "\n",
    "n = user_list()\n",
    "print(\"list of values: {}\".format(n))\n",
    "split_by_first_char(n)"
   ]
  },
  {
   "cell_type": "code",
   "execution_count": null,
   "id": "4ac2681c-9d3f-40bf-95e8-57dec8432a96",
   "metadata": {},
   "outputs": [],
   "source": []
  }
 ],
 "metadata": {
  "kernelspec": {
   "display_name": "Python 3 (ipykernel)",
   "language": "python",
   "name": "python3"
  },
  "language_info": {
   "codemirror_mode": {
    "name": "ipython",
    "version": 3
   },
   "file_extension": ".py",
   "mimetype": "text/x-python",
   "name": "python",
   "nbconvert_exporter": "python",
   "pygments_lexer": "ipython3",
   "version": "3.12.4"
  }
 },
 "nbformat": 4,
 "nbformat_minor": 5
}
