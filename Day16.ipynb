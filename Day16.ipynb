{
 "cells": [
  {
   "cell_type": "code",
   "execution_count": 13,
   "id": "af0f8d75-7b40-4d2f-930a-12b9340d738e",
   "metadata": {},
   "outputs": [
    {
     "name": "stdin",
     "output_type": "stream",
     "text": [
      "enter The number of Fibonacci numbers to generate: 9\n"
     ]
    },
    {
     "name": "stdout",
     "output_type": "stream",
     "text": [
      "The first 9 Fibonacci numbers are: [0, 1, 1, 2, 3, 5, 8, 13, 21]\n"
     ]
    }
   ],
   "source": [
    "#fibonacci series\n",
    "\n",
    "def fibonacci():\n",
    "    global n\n",
    "    try:\n",
    "        n = int(input(\"enter The number of Fibonacci numbers to generate:\"))\n",
    "    except ValueError:\n",
    "        print(\"enter only integer\")\n",
    "    fib_sequence = [0, 1]\n",
    "    for i in range(2, n):\n",
    "        next_number = fib_sequence[i-1] + fib_sequence[i-2]\n",
    "        fib_sequence.append(next_number)\n",
    "    return fib_sequence\n",
    "result = fibonacci()\n",
    "print(f\"The first {n} Fibonacci numbers are: {result}\")"
   ]
  },
  {
   "cell_type": "code",
   "execution_count": null,
   "id": "e1306311-2b91-4619-a62a-797f940ef53b",
   "metadata": {},
   "outputs": [],
   "source": []
  }
 ],
 "metadata": {
  "kernelspec": {
   "display_name": "Python 3 (ipykernel)",
   "language": "python",
   "name": "python3"
  },
  "language_info": {
   "codemirror_mode": {
    "name": "ipython",
    "version": 3
   },
   "file_extension": ".py",
   "mimetype": "text/x-python",
   "name": "python",
   "nbconvert_exporter": "python",
   "pygments_lexer": "ipython3",
   "version": "3.12.4"
  }
 },
 "nbformat": 4,
 "nbformat_minor": 5
}
