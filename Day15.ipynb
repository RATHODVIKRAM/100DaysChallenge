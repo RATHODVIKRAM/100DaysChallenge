{
 "cells": [
  {
   "cell_type": "code",
   "execution_count": 11,
   "id": "23873831-5f1b-4fa4-8e9e-bedfc3e2d168",
   "metadata": {},
   "outputs": [
    {
     "name": "stdin",
     "output_type": "stream",
     "text": [
      "enter the values of list (or press enter to end:) i\n",
      "enter the values of list (or press enter to end:) r\n",
      "enter the values of list (or press enter to end:) m\n",
      "enter the values of list (or press enter to end:) \n"
     ]
    },
    {
     "name": "stdout",
     "output_type": "stream",
     "text": [
      "Original list: ['i', 'r', 'm']\n"
     ]
    },
    {
     "name": "stdin",
     "output_type": "stream",
     "text": [
      "enter a value which need to be inserted before each element of lst: v\n"
     ]
    },
    {
     "name": "stdout",
     "output_type": "stream",
     "text": [
      "New List after inserting an element before each element of list\n",
      "['v', 'i', 'v', 'r', 'v', 'm']\n"
     ]
    }
   ],
   "source": [
    "#47. Write a Python program to insert an element before each element of a list.\n",
    "\n",
    "def getting_elements():\n",
    "    global lst\n",
    "    lst = []\n",
    "    while True:\n",
    "        user_input = input(\"enter the values of list (or press enter to end:)\")\n",
    "        if user_input == \"\":\n",
    "            break\n",
    "        lst.append(user_input)\n",
    "    return lst\n",
    "\n",
    "def insert_element():\n",
    "    print(\"Original list:\",lst)\n",
    "    new_value = input(\"enter a value which need to be inserted before each element of lst:\" )\n",
    "    print(\"New List after inserting an element before each element of list\")\n",
    "    new_list = []\n",
    "    for i in range(len(lst)):\n",
    "        new_list.append(new_value)\n",
    "        new_list.append(lst[i])\n",
    "    print(new_list)\n",
    "\n",
    "n = getting_elements()\n",
    "insert_element()\n",
    "\n"
   ]
  },
  {
   "cell_type": "code",
   "execution_count": null,
   "id": "67d632be-52d0-4fb9-bce7-bbed6e313209",
   "metadata": {},
   "outputs": [],
   "source": []
  }
 ],
 "metadata": {
  "kernelspec": {
   "display_name": "Python 3 (ipykernel)",
   "language": "python",
   "name": "python3"
  },
  "language_info": {
   "codemirror_mode": {
    "name": "ipython",
    "version": 3
   },
   "file_extension": ".py",
   "mimetype": "text/x-python",
   "name": "python",
   "nbconvert_exporter": "python",
   "pygments_lexer": "ipython3",
   "version": "3.12.4"
  }
 },
 "nbformat": 4,
 "nbformat_minor": 5
}
