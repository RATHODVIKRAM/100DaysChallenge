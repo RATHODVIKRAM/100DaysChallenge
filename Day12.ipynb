{
 "cells": [
  {
   "cell_type": "code",
   "execution_count": 4,
   "id": "d8b27adc-0e1f-4800-bfd0-aa00ab340af8",
   "metadata": {},
   "outputs": [
    {
     "name": "stdin",
     "output_type": "stream",
     "text": [
      "enter the values for first list (or press enter to end the list:) 1\n",
      "enter the values for first list (or press enter to end the list:) 1\n",
      "enter the values for first list (or press enter to end the list:) 1\n",
      "enter the values for first list (or press enter to end the list:) 2\n",
      "enter the values for first list (or press enter to end the list:) 2\n",
      "enter the values for first list (or press enter to end the list:) 2\n",
      "enter the values for first list (or press enter to end the list:) 3\n",
      "enter the values for first list (or press enter to end the list:) 4\n",
      "enter the values for first list (or press enter to end the list:) 3\n",
      "enter the values for first list (or press enter to end the list:) 6\n",
      "enter the values for first list (or press enter to end the list:) 5\n",
      "enter the values for first list (or press enter to end the list:) 5\n",
      "enter the values for first list (or press enter to end the list:) \n",
      "enter the values for second list (or press enter to end the list:) 1\n",
      "enter the values for second list (or press enter to end the list:) 2\n",
      "enter the values for second list (or press enter to end the list:) 3\n",
      "enter the values for second list (or press enter to end the list:) 8\n",
      "enter the values for second list (or press enter to end the list:) 7\n",
      "enter the values for second list (or press enter to end the list:) 8\n",
      "enter the values for second list (or press enter to end the list:) 7\n",
      "enter the values for second list (or press enter to end the list:) 7\n",
      "enter the values for second list (or press enter to end the list:) 9\n",
      "enter the values for second list (or press enter to end the list:) \n"
     ]
    },
    {
     "name": "stdout",
     "output_type": "stream",
     "text": [
      "first list: ['1', '1', '1', '2', '2', '2', '3', '4', '3', '6', '5', '5']\n",
      "second list: ['1', '2', '3', '8', '7', '8', '7', '7', '9']\n",
      "common items in list1 and list2 are : ['3', '2', '1']\n"
     ]
    }
   ],
   "source": [
    "# Write a Python program to find common items from two lists.\n",
    "\n",
    "def user_lists():\n",
    "    global lst1\n",
    "    global lst2\n",
    "    lst1 = []\n",
    "    while True:\n",
    "        user_input = input(\"enter the values for first list (or press enter to end the list:)\")\n",
    "        if user_input == '':\n",
    "            break\n",
    "        lst1.append(user_input)\n",
    "    lst2 = []\n",
    "    while True:\n",
    "        user_input = input(\"enter the values for second list (or press enter to end the list:)\")\n",
    "        if user_input == '':\n",
    "            break\n",
    "        lst2.append(user_input)\n",
    "\n",
    "    print(\"first list: {}\".format(lst1))\n",
    "    print(\"second list: {}\".format(lst2))\n",
    "def common_values():\n",
    "    lst3 = []\n",
    "    for i in set(lst1):\n",
    "        if i in set(lst2):\n",
    "            lst3.append(i)\n",
    "    print(\"common items in list1 and list2 are : {}\".format(lst3))\n",
    "user_lists()\n",
    "common_values()"
   ]
  },
  {
   "cell_type": "code",
   "execution_count": null,
   "id": "788d3dc0-37e4-4d95-91dd-a2d2667eba69",
   "metadata": {},
   "outputs": [],
   "source": []
  }
 ],
 "metadata": {
  "kernelspec": {
   "display_name": "Python 3 (ipykernel)",
   "language": "python",
   "name": "python3"
  },
  "language_info": {
   "codemirror_mode": {
    "name": "ipython",
    "version": 3
   },
   "file_extension": ".py",
   "mimetype": "text/x-python",
   "name": "python",
   "nbconvert_exporter": "python",
   "pygments_lexer": "ipython3",
   "version": "3.12.4"
  }
 },
 "nbformat": 4,
 "nbformat_minor": 5
}
