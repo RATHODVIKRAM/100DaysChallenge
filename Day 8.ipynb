{
 "cells": [
  {
   "cell_type": "code",
   "execution_count": null,
   "id": "206246fb-d0de-4106-ac1f-cf87ac215324",
   "metadata": {},
   "outputs": [
    {
     "name": "stdin",
     "output_type": "stream",
     "text": [
      "enter the values for first list (or press enter to end the list:) 3\n",
      "enter the values for first list (or press enter to end the list:) 4\n",
      "enter the values for first list (or press enter to end the list:) 56\n"
     ]
    }
   ],
   "source": [
    "# Write a Python program to find the second largest number in a list.\n",
    "\n",
    "\n",
    "def find_second_largest():\n",
    "    lst = []\n",
    "    while True:\n",
    "        try:\n",
    "            input_numbers = input(\"enter the values for first list (or press enter to end the list:)\")\n",
    "            if input_numbers == '':\n",
    "                break\n",
    "            numbers = float(input_numbers)\n",
    "            lst.append(numbers)\n",
    "        except ValueError:\n",
    "            print(\"Invalid input! Please enter a valid number.\")\n",
    "    print(\"user's list: {}\".format(lst))\n",
    "\n",
    "    # Check if list has at least 2 unique numbers\n",
    "    if len(set(lst)) < 2:\n",
    "        return \"List must have at least 2 different numbers\"\n",
    "    \n",
    "    # Remove duplicates and sort in descending order\n",
    "    unique_sorted = sorted(set(lst), reverse=True)\n",
    "    \n",
    "    # Return second element (index 1)\n",
    "    return unique_sorted[1]\n",
    "\n",
    "# main program\n",
    "result = find_second_largest()\n",
    "print(\"The second largest number is: {}\".format(result))\n"
   ]
  },
  {
   "cell_type": "code",
   "execution_count": null,
   "id": "e79b1b05-6fc8-4a9c-8628-8a12a22abb6b",
   "metadata": {},
   "outputs": [],
   "source": []
  }
 ],
 "metadata": {
  "kernelspec": {
   "display_name": "Python 3 (ipykernel)",
   "language": "python",
   "name": "python3"
  },
  "language_info": {
   "codemirror_mode": {
    "name": "ipython",
    "version": 3
   },
   "file_extension": ".py",
   "mimetype": "text/x-python",
   "name": "python",
   "nbconvert_exporter": "python",
   "pygments_lexer": "ipython3",
   "version": "3.12.4"
  }
 },
 "nbformat": 4,
 "nbformat_minor": 5
}
