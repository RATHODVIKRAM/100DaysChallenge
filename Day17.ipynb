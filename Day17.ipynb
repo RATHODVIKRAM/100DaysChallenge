{
 "cells": [
  {
   "cell_type": "code",
   "execution_count": 10,
   "id": "496abbd2-0247-4d44-b414-32cafcfd1d45",
   "metadata": {},
   "outputs": [
    {
     "name": "stdin",
     "output_type": "stream",
     "text": [
      "enter the elements to concatenate: vi,k,r,a,m,f,o,r,d,a,t,a,s,c,i,e,n,t,i,s,t\n"
     ]
    },
    {
     "name": "stdout",
     "output_type": "stream",
     "text": [
      "list of element to concatenate are:['vi', 'k', 'r', 'a', 'm', 'f', 'o', 'r', 'd', 'a', 't', 'a', 's', 'c', 'i', 'e', 'n', 't', 'i', 's', 't']\n",
      "result after concatenating the elements: vikramfordatascientist\n"
     ]
    }
   ],
   "source": [
    "# Write a Python program to concatenate elements of a list.\n",
    "\n",
    "def con():\n",
    "    a = input(\"enter the elements to concatenate:\").split(\",\")\n",
    "    print(f\"list of element to concatenate are:{a}\")\n",
    "    l = \"\"\n",
    "    for i in a:\n",
    "        l += i\n",
    "    return l\n",
    "res = con()\n",
    "print(f\"result after concatenating the elements: {res}\")"
   ]
  },
  {
   "cell_type": "code",
   "execution_count": null,
   "id": "7c99de0c-ce71-40cf-ab6b-95d52a12d010",
   "metadata": {},
   "outputs": [],
   "source": []
  }
 ],
 "metadata": {
  "kernelspec": {
   "display_name": "Python 3 (ipykernel)",
   "language": "python",
   "name": "python3"
  },
  "language_info": {
   "codemirror_mode": {
    "name": "ipython",
    "version": 3
   },
   "file_extension": ".py",
   "mimetype": "text/x-python",
   "name": "python",
   "nbconvert_exporter": "python",
   "pygments_lexer": "ipython3",
   "version": "3.12.4"
  }
 },
 "nbformat": 4,
 "nbformat_minor": 5
}
