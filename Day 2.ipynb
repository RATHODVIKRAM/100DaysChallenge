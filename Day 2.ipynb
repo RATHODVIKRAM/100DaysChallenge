{
 "cells": [
  {
   "cell_type": "code",
   "execution_count": 8,
   "id": "10fa8ca1-2e47-4f4d-af7e-f1dfe4216d93",
   "metadata": {},
   "outputs": [
    {
     "name": "stdin",
     "output_type": "stream",
     "text": [
      "enter numbers you want (or press enter to finish): 2\n",
      "enter numbers you want (or press enter to finish): 3\n",
      "enter numbers you want (or press enter to finish): 4\n",
      "enter numbers you want (or press enter to finish): 5\n",
      "enter numbers you want (or press enter to finish): 6\n",
      "enter numbers you want (or press enter to finish): vikram\n",
      "enter numbers you want (or press enter to finish): vicky\n",
      "enter numbers you want (or press enter to finish): vikram\n",
      "enter numbers you want (or press enter to finish): \n"
     ]
    },
    {
     "name": "stdout",
     "output_type": "stream",
     "text": [
      "original list: ['2', '3', '4', '5', '6', 'vikram', 'vicky', 'vikram']\n",
      "unique list: ['2', '3', '4', '5', '6', 'vikram', 'vicky']\n"
     ]
    }
   ],
   "source": [
    "#Write a Python program to remove duplicates from a list\n",
    "\n",
    "def get_element_fromuser():\n",
    "    global lst\n",
    "    lst=[]\n",
    "    while True:\n",
    "        user_input = input(\"enter numbers you want (or press enter to finish):\")\n",
    "        if user_input == '':\n",
    "            break\n",
    "        lst.append(user_input)\n",
    "    return lst\n",
    "def remove_duplicates():\n",
    "    unique_list = []\n",
    "    for i in lst:\n",
    "        if i not in unique_list:\n",
    "            unique_list.append(i)\n",
    "    print(\"unique list: {}\".format(unique_list))\n",
    "\n",
    "#main program\n",
    "ls =get_element_fromuser()\n",
    "print(\"original list: {}\".format(ls))\n",
    "remove_duplicates()\n"
   ]
  },
  {
   "cell_type": "code",
   "execution_count": null,
   "id": "50f3cc73-a6b1-48df-aecc-31d7e9330578",
   "metadata": {},
   "outputs": [],
   "source": []
  }
 ],
 "metadata": {
  "kernelspec": {
   "display_name": "Python 3 (ipykernel)",
   "language": "python",
   "name": "python3"
  },
  "language_info": {
   "codemirror_mode": {
    "name": "ipython",
    "version": 3
   },
   "file_extension": ".py",
   "mimetype": "text/x-python",
   "name": "python",
   "nbconvert_exporter": "python",
   "pygments_lexer": "ipython3",
   "version": "3.12.4"
  }
 },
 "nbformat": 4,
 "nbformat_minor": 5
}
