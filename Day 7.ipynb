{
 "cells": [
  {
   "cell_type": "code",
   "execution_count": 6,
   "id": "c783c847-6131-465e-9752-36664cd11b08",
   "metadata": {},
   "outputs": [
    {
     "name": "stdin",
     "output_type": "stream",
     "text": [
      "enter the values for first list (or press enter to end the list:) 1\n",
      "enter the values for first list (or press enter to end the list:) 2\n",
      "enter the values for first list (or press enter to end the list:) 3\n",
      "enter the values for first list (or press enter to end the list:) 4\n",
      "enter the values for first list (or press enter to end the list:) 4\n",
      "enter the values for first list (or press enter to end the list:) 5\n",
      "enter the values for first list (or press enter to end the list:) f\n",
      "enter the values for first list (or press enter to end the list:) 1\n",
      "enter the values for first list (or press enter to end the list:) 2\n",
      "enter the values for first list (or press enter to end the list:) 3\n",
      "enter the values for first list (or press enter to end the list:) 4\n",
      "enter the values for first list (or press enter to end the list:) 5\n",
      "enter the values for first list (or press enter to end the list:) \n",
      "enter the values for second list (or press enter to end the list:) 1\n",
      "enter the values for second list (or press enter to end the list:) 2\n",
      "enter the values for second list (or press enter to end the list:) 3\n",
      "enter the values for second list (or press enter to end the list:) 4\n",
      "enter the values for second list (or press enter to end the list:) 5\n",
      "enter the values for second list (or press enter to end the list:) 6\n",
      "enter the values for second list (or press enter to end the list:) t\n",
      "enter the values for second list (or press enter to end the list:) \n"
     ]
    },
    {
     "name": "stdout",
     "output_type": "stream",
     "text": [
      "first list: ['1', '2', '3', '4', '4', '5', 'f', '1', '2', '3', '4', '5']\n",
      "second list: ['1', '2', '3', '4', '5', '6', 't']\n",
      "['f', '6', 't']\n"
     ]
    }
   ],
   "source": [
    "#Write a Python program to get the difference between the two lists.\n",
    "\n",
    "\n",
    "def list1_list2_elements():\n",
    "    global lst1\n",
    "    global lst2\n",
    "   \n",
    "    lst1 = []\n",
    "    while True:\n",
    "\n",
    "        user_input = input(\"enter the values for first list (or press enter to end the list:)\")\n",
    "        if user_input == '':\n",
    "            break\n",
    "        lst1.append(user_input)\n",
    "\n",
    "    lst2 = []\n",
    "    while True:\n",
    "        user_input = input(\"enter the values for second list (or press enter to end the list:)\")\n",
    "        if user_input == '':\n",
    "            break\n",
    "        lst2.append(user_input)\n",
    "\n",
    "    print(\"first list: {}\".format(lst1))\n",
    "    print(\"second list: {}\".format(lst2))\n",
    "def difference_elements():\n",
    "    li = []\n",
    "    for i in lst1:\n",
    "        if i in lst2:\n",
    "            continue\n",
    "        li.append(i)\n",
    "    for j in lst2:\n",
    "        if j in lst1:\n",
    "            continue    \n",
    "        li.append(j)\n",
    "    return li\n",
    "\n",
    "\n",
    "#main program\n",
    "list1_list2_elements()\n",
    "result = difference_elements()\n",
    "print(result)"
   ]
  },
  {
   "cell_type": "code",
   "execution_count": null,
   "id": "645a2337-c585-455a-b262-d8f05e41652b",
   "metadata": {},
   "outputs": [],
   "source": []
  }
 ],
 "metadata": {
  "kernelspec": {
   "display_name": "Python 3 (ipykernel)",
   "language": "python",
   "name": "python3"
  },
  "language_info": {
   "codemirror_mode": {
    "name": "ipython",
    "version": 3
   },
   "file_extension": ".py",
   "mimetype": "text/x-python",
   "name": "python",
   "nbconvert_exporter": "python",
   "pygments_lexer": "ipython3",
   "version": "3.12.4"
  }
 },
 "nbformat": 4,
 "nbformat_minor": 5
}
