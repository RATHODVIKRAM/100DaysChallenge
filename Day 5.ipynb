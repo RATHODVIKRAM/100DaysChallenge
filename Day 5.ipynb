{
 "cells": [
  {
   "cell_type": "code",
   "execution_count": 4,
   "id": "c75c5683-ea48-4186-a2f0-f0d3eda73d69",
   "metadata": {},
   "outputs": [
    {
     "name": "stdin",
     "output_type": "stream",
     "text": [
      "enter the values (or press enter to end the program:) 2\n",
      "enter the values (or press enter to end the program:) 3\n",
      "enter the values (or press enter to end the program:) 4\n",
      "enter the values (or press enter to end the program:) 5\n",
      "enter the values (or press enter to end the program:) gf\n"
     ]
    },
    {
     "name": "stdout",
     "output_type": "stream",
     "text": [
      "Invalid user input please enter the valid number\n"
     ]
    },
    {
     "name": "stdin",
     "output_type": "stream",
     "text": [
      "enter the values (or press enter to end the program:) g\n"
     ]
    },
    {
     "name": "stdout",
     "output_type": "stream",
     "text": [
      "Invalid user input please enter the valid number\n"
     ]
    },
    {
     "name": "stdin",
     "output_type": "stream",
     "text": [
      "enter the values (or press enter to end the program:) 78\n",
      "enter the values (or press enter to end the program:) \n"
     ]
    },
    {
     "name": "stdout",
     "output_type": "stream",
     "text": [
      "user's list: [2.0, 3.0, 4.0, 5.0, 78.0]\n",
      "smallest number:2.0\n"
     ]
    }
   ],
   "source": [
    "# Write a Python program to get the smallest number from a list\n",
    "\n",
    "\n",
    "#accepting the value from user\n",
    "def get_user_values():\n",
    "    global lst\n",
    "    lst = []\n",
    "    while True:\n",
    "        try:\n",
    "            user_input = input(\"enter the values (or press enter to end the program:)\")\n",
    "            if user_input == '':\n",
    "                break\n",
    "            numbers = float(user_input)\n",
    "            lst.append(numbers)\n",
    "        except ValueError:\n",
    "            print(\"Invalid user input please enter the valid number\")\n",
    "    return lst\n",
    "\n",
    "#checking the smallest number\n",
    "def smallest_number():\n",
    "    smallest = lst[0]\n",
    "    for i in lst:\n",
    "        if i<smallest:\n",
    "            smallest = i\n",
    "    return smallest\n",
    "\n",
    "#main program\n",
    "li = get_user_values()\n",
    "print(\"user's list: {}\".format(li))\n",
    "value = smallest_number()\n",
    "print(\"smallest number:{}\".format(value))"
   ]
  },
  {
   "cell_type": "code",
   "execution_count": null,
   "id": "0b9b2eb3-9c8c-4276-8a1d-43187ec6880d",
   "metadata": {},
   "outputs": [],
   "source": []
  }
 ],
 "metadata": {
  "kernelspec": {
   "display_name": "Python 3 (ipykernel)",
   "language": "python",
   "name": "python3"
  },
  "language_info": {
   "codemirror_mode": {
    "name": "ipython",
    "version": 3
   },
   "file_extension": ".py",
   "mimetype": "text/x-python",
   "name": "python",
   "nbconvert_exporter": "python",
   "pygments_lexer": "ipython3",
   "version": "3.12.4"
  }
 },
 "nbformat": 4,
 "nbformat_minor": 5
}
