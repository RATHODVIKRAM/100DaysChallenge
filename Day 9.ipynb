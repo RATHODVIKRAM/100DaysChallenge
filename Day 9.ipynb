{
 "cells": [
  {
   "cell_type": "code",
   "execution_count": 2,
   "id": "d83d0da1-ea5c-48a1-ab6c-a6de19c08c99",
   "metadata": {},
   "outputs": [
    {
     "name": "stdin",
     "output_type": "stream",
     "text": [
      "Enter a element (or press Enter to finish):  3\n",
      "Enter a element (or press Enter to finish):  4\n",
      "Enter a element (or press Enter to finish):  4\n",
      "Enter a element (or press Enter to finish):  4\n",
      "Enter a element (or press Enter to finish):  3\n",
      "Enter a element (or press Enter to finish):  3\n",
      "Enter a element (or press Enter to finish):  3\n",
      "Enter a element (or press Enter to finish):  3\n",
      "Enter a element (or press Enter to finish):  3\n",
      "Enter a element (or press Enter to finish):  4\n",
      "Enter a element (or press Enter to finish):  5\n",
      "Enter a element (or press Enter to finish):  t\n",
      "Enter a element (or press Enter to finish):  ff\n",
      "Enter a element (or press Enter to finish):  f\n",
      "Enter a element (or press Enter to finish):  f\n",
      "Enter a element (or press Enter to finish):  \n"
     ]
    },
    {
     "name": "stdout",
     "output_type": "stream",
     "text": [
      "['3', '4', '4', '4', '3', '3', '3', '3', '3', '4', '5', 't', 'ff', 'f', 'f']\n",
      "Element: 3, Frequency: 6\n",
      "Element: 4, Frequency: 4\n",
      "Element: 5, Frequency: 1\n",
      "Element: t, Frequency: 1\n",
      "Element: ff, Frequency: 1\n",
      "Element: f, Frequency: 2\n"
     ]
    }
   ],
   "source": [
    "# Write a Python program to get the frequency of the elements in a list.\n",
    "\n",
    "\n",
    "def elements_from_user():\n",
    "    global lst\n",
    "    lst = []\n",
    "    while True:\n",
    "        user_input = input(\"Enter a element (or press Enter to finish): \")\n",
    "        if user_input == \"\":\n",
    "            break\n",
    "        lst.append(user_input)\n",
    "    return lst\n",
    "def frequency_elements():\n",
    "    frequency = {}\n",
    "    for element in lst:\n",
    "        if element in frequency:\n",
    "            frequency[element] += 1\n",
    "        else:\n",
    "            frequency[element] = 1\n",
    "    for element, count in frequency.items():\n",
    "        print(\"Element: {}, Frequency: {}\".format(element,count))\n",
    "\n",
    "\n",
    "\n",
    "#main program\n",
    "orignal_list = elements_from_user()\n",
    "print(orignal_list)\n",
    "frequency_elements()\n",
    "    \n",
    "\n",
    "\n",
    "\n",
    "\n"
   ]
  },
  {
   "cell_type": "code",
   "execution_count": null,
   "id": "ff621e84-4668-4b65-bd72-3cfe5993292b",
   "metadata": {},
   "outputs": [],
   "source": []
  }
 ],
 "metadata": {
  "kernelspec": {
   "display_name": "Python 3 (ipykernel)",
   "language": "python",
   "name": "python3"
  },
  "language_info": {
   "codemirror_mode": {
    "name": "ipython",
    "version": 3
   },
   "file_extension": ".py",
   "mimetype": "text/x-python",
   "name": "python",
   "nbconvert_exporter": "python",
   "pygments_lexer": "ipython3",
   "version": "3.12.4"
  }
 },
 "nbformat": 4,
 "nbformat_minor": 5
}
