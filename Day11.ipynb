{
 "cells": [
  {
   "cell_type": "code",
   "execution_count": null,
   "id": "03bdb016-4709-499e-92d1-fb5a1ae96250",
   "metadata": {},
   "outputs": [
    {
     "name": "stdin",
     "output_type": "stream",
     "text": [
      "enter values you want (or press enter to finish): v\n",
      "enter values you want (or press enter to finish): i\n",
      "enter values you want (or press enter to finish): k\n",
      "enter values you want (or press enter to finish): r\n",
      "enter values you want (or press enter to finish): a\n"
     ]
    }
   ],
   "source": [
    "#Write a Python program to create a list by concatenating a given list which range goes from 1 to n.\n",
    "\t#Sample list : ['p', 'q']\n",
    "\t#n =5\n",
    "\t#Sample Output : ['p1', 'q1', 'p2', 'q2', 'p3', 'q3', 'p4', 'q4', 'p5', 'q5']\n",
    "\n",
    "def get_element_fromuser():\n",
    "    global lst\n",
    "    lst=[]\n",
    "    while True:\n",
    "        user_input = input(\"enter values you want (or press enter to finish):\")\n",
    "        if user_input == '':\n",
    "            break\n",
    "        lst.append(user_input)\n",
    "    return lst\n",
    "\n",
    "def list_concatenating():\n",
    "    try:\n",
    "        n = int(input(\"enter a number\"))\n",
    "    except ValueError:\n",
    "        print(\"please enter a valid number\")\n",
    "    out=[]\n",
    "    for i in range(1,n+1):\n",
    "        for j in lst:\n",
    "            out.append(j+str(i))\n",
    "    print(\"list of values concatenated : {}\".format(out))\n",
    "#main program\n",
    "li = get_element_fromuser()\n",
    "print(\"list = {}\".format(li))\n",
    "list_concatenating()\n",
    "\n"
   ]
  },
  {
   "cell_type": "code",
   "execution_count": null,
   "id": "dbe72f10-f348-41b7-9b37-2918d362e486",
   "metadata": {},
   "outputs": [],
   "source": []
  }
 ],
 "metadata": {
  "kernelspec": {
   "display_name": "Python 3 (ipykernel)",
   "language": "python",
   "name": "python3"
  },
  "language_info": {
   "codemirror_mode": {
    "name": "ipython",
    "version": 3
   },
   "file_extension": ".py",
   "mimetype": "text/x-python",
   "name": "python",
   "nbconvert_exporter": "python",
   "pygments_lexer": "ipython3",
   "version": "3.12.4"
  }
 },
 "nbformat": 4,
 "nbformat_minor": 5
}
