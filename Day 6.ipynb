{
 "cells": [
  {
   "cell_type": "code",
   "execution_count": 2,
   "id": "1a74c3eb-4c90-4661-a97c-b5664f94d362",
   "metadata": {},
   "outputs": [
    {
     "name": "stdin",
     "output_type": "stream",
     "text": [
      "enter the values for first list (or press enter to end the list:) 1\n",
      "enter the values for first list (or press enter to end the list:) 2\n",
      "enter the values for first list (or press enter to end the list:) 3\n",
      "enter the values for first list (or press enter to end the list:) e\n",
      "enter the values for first list (or press enter to end the list:) f\n",
      "enter the values for first list (or press enter to end the list:) y\n",
      "enter the values for first list (or press enter to end the list:) \n",
      "enter the values for second list (or press enter to end the list:) 3\n",
      "enter the values for second list (or press enter to end the list:) d\n",
      "enter the values for second list (or press enter to end the list:) 5\n",
      "enter the values for second list (or press enter to end the list:) b\n",
      "enter the values for second list (or press enter to end the list:) hj\n",
      "enter the values for second list (or press enter to end the list:) 64\n",
      "enter the values for second list (or press enter to end the list:) \n"
     ]
    },
    {
     "name": "stdout",
     "output_type": "stream",
     "text": [
      "first list: ['1', '2', '3', 'e', 'f', 'y']\n",
      "second list: ['3', 'd', '5', 'b', 'hj', '64']\n",
      "True\n"
     ]
    }
   ],
   "source": [
    "#Write a Python function that takes two lists and returns True if they have at least one common member.\n",
    "\n",
    "\n",
    "def common_elements():\n",
    "    global lst1\n",
    "    global lst2\n",
    "    lst1 = []\n",
    "\n",
    "    while True:\n",
    "\n",
    "        user_input = input(\"enter the values for first list (or press enter to end the list:)\")\n",
    "        if user_input == '':\n",
    "            break\n",
    "        #numbers = float(user_input)\n",
    "        lst1.append(user_input)\n",
    "\n",
    "    lst2 = []\n",
    "    while True:\n",
    "        user_input = input(\"enter the values for second list (or press enter to end the list:)\")\n",
    "        if user_input == '':\n",
    "            break\n",
    "        # numbers = float(user_input)\n",
    "        lst2.append(user_input)\n",
    "\n",
    "    print(\"first list: {}\".format(lst1))\n",
    "    print(\"second list: {}\".format(lst2))\n",
    "def check_common_elements():\n",
    "    # lst=[1,2,3,4,5,]\n",
    "    # lst1=[1,8,9,10,34]\n",
    "    for v in lst1:\n",
    "        if v in lst2:\n",
    "            return True\n",
    "    else:\n",
    "        return False\n",
    "\n",
    "#main program\n",
    "common_elements()\n",
    "result = check_common_elements()\n",
    "print(result)"
   ]
  },
  {
   "cell_type": "code",
   "execution_count": null,
   "id": "77b782ca-7399-484e-9a41-59009f98bd45",
   "metadata": {},
   "outputs": [],
   "source": []
  }
 ],
 "metadata": {
  "kernelspec": {
   "display_name": "Python 3 (ipykernel)",
   "language": "python",
   "name": "python3"
  },
  "language_info": {
   "codemirror_mode": {
    "name": "ipython",
    "version": 3
   },
   "file_extension": ".py",
   "mimetype": "text/x-python",
   "name": "python",
   "nbconvert_exporter": "python",
   "pygments_lexer": "ipython3",
   "version": "3.12.4"
  }
 },
 "nbformat": 4,
 "nbformat_minor": 5
}
