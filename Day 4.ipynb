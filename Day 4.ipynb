{
 "cells": [
  {
   "cell_type": "code",
   "execution_count": null,
   "id": "7cb93bce-5393-4fc0-a9dc-8fce9532485d",
   "metadata": {},
   "outputs": [],
   "source": [
    "# Write a Python program to get the largest number from a list.\n",
    "\n",
    "\n",
    "#accepting the value from user\n",
    "def get_element_fromuser():\n",
    "    global lst\n",
    "    lst=[]\n",
    "    while True:\n",
    "        try:\n",
    "            user_input = input(\"enter numbers you want (or press enter to finish):\")\n",
    "            if user_input == '':\n",
    "                break\n",
    "            number = float(user_input)\n",
    "            lst.append(number)\n",
    "        except ValueError:\n",
    "            print(\"Invalid input pleas enter correct input\")\n",
    "    return lst\n",
    "\n",
    "#checking the largest number\n",
    "def max_number():\n",
    "    largest = lst[0]\n",
    "    for i in lst:\n",
    "        if i > largest:\n",
    "            largest = i\n",
    "    return largest\n",
    "\n",
    "#main program\n",
    "li = get_element_fromuser()\n",
    "print(\"user's list: {}\".format(li))\n",
    "value = max_number()\n",
    "print(\"largest number:{}\".format(value))\n",
    "\n",
    "\n",
    "\n",
    "\n",
    "\n",
    "\n",
    "\n",
    "\n"
   ]
  }
 ],
 "metadata": {
  "kernelspec": {
   "display_name": "Python 3 (ipykernel)",
   "language": "python",
   "name": "python3"
  },
  "language_info": {
   "codemirror_mode": {
    "name": "ipython",
    "version": 3
   },
   "file_extension": ".py",
   "mimetype": "text/x-python",
   "name": "python",
   "nbconvert_exporter": "python",
   "pygments_lexer": "ipython3",
   "version": "3.12.4"
  }
 },
 "nbformat": 4,
 "nbformat_minor": 5
}
