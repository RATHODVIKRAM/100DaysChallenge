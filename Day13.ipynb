{
 "cells": [
  {
   "cell_type": "code",
   "execution_count": 6,
   "id": "8520c8c1-d6f6-4a6e-a1f0-f4d78e063996",
   "metadata": {},
   "outputs": [
    {
     "name": "stdin",
     "output_type": "stream",
     "text": [
      "enter the integer values (or press enter to finish) 5\n",
      "enter the integer values (or press enter to finish) 4\n",
      "enter the integer values (or press enter to finish) k\n"
     ]
    },
    {
     "name": "stdout",
     "output_type": "stream",
     "text": [
      "please enter the valid integer\n"
     ]
    },
    {
     "name": "stdin",
     "output_type": "stream",
     "text": [
      "enter the integer values (or press enter to finish) l\n"
     ]
    },
    {
     "name": "stdout",
     "output_type": "stream",
     "text": [
      "please enter the valid integer\n"
     ]
    },
    {
     "name": "stdin",
     "output_type": "stream",
     "text": [
      "enter the integer values (or press enter to finish) 5\n",
      "enter the integer values (or press enter to finish) \n"
     ]
    },
    {
     "name": "stdout",
     "output_type": "stream",
     "text": [
      "single integer: 545 <class 'int'>\n"
     ]
    }
   ],
   "source": [
    "# Write a Python program to convert a list of multiple integers into a single integer. \n",
    "\t\t#Sample list: [11, 33, 50]\n",
    "\t\t#Expected Output: 113350\n",
    "\n",
    "\n",
    "def getting_numbers():\n",
    "    numbers_list = []\n",
    "    while True:\n",
    "        try:\n",
    "            user_input = input(\"enter the integer values (or press enter to finish)\")\n",
    "            if user_input == \"\":\n",
    "                break\n",
    "            number = int(user_input)\n",
    "            numbers_list.append(number)\n",
    "        except ValueError:\n",
    "            print(\"please enter the valid integer\")\n",
    "    return numbers_list\n",
    "\n",
    "def single_integer(numbers_list):\n",
    "    result = \"\"\n",
    "    for i in numbers_list:\n",
    "        result += str(i)\n",
    "    integer = int(result)\n",
    "    print(\"single integer:\", integer,type(integer))\n",
    "\n",
    "numbers = getting_numbers()\n",
    "single_integer(numbers)\n",
    "\n",
    "    "
   ]
  },
  {
   "cell_type": "code",
   "execution_count": null,
   "id": "317d19a8-059d-48f1-b5ee-26b90757098f",
   "metadata": {},
   "outputs": [],
   "source": []
  }
 ],
 "metadata": {
  "kernelspec": {
   "display_name": "Python 3 (ipykernel)",
   "language": "python",
   "name": "python3"
  },
  "language_info": {
   "codemirror_mode": {
    "name": "ipython",
    "version": 3
   },
   "file_extension": ".py",
   "mimetype": "text/x-python",
   "name": "python",
   "nbconvert_exporter": "python",
   "pygments_lexer": "ipython3",
   "version": "3.12.4"
  }
 },
 "nbformat": 4,
 "nbformat_minor": 5
}
