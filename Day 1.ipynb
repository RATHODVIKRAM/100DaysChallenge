{
 "cells": [
  {
   "cell_type": "code",
   "execution_count": 7,
   "id": "d8807958-f450-44a6-8134-56c4e3f673d4",
   "metadata": {},
   "outputs": [
    {
     "name": "stdin",
     "output_type": "stream",
     "text": [
      "enter the space separated values: 4 4 5 1 g g4\n"
     ]
    },
    {
     "name": "stdout",
     "output_type": "stream",
     "text": [
      "044514\n"
     ]
    }
   ],
   "source": [
    "# Write a Python program to sum all the items in a list. \n",
    "\n",
    "def sumelement(ld):\n",
    "    sum = '0'\n",
    "    for i in ld:\n",
    "        if i.isdigit():\n",
    "            sum+=i\n",
    "    print(sum)\n",
    "li = list(input(\"enter the space separated values:\"))\n",
    "v = sumelement(li)"
   ]
  },
  {
   "cell_type": "code",
   "execution_count": 9,
   "id": "7f8dc5eb-ea1c-493e-839d-54d74a14bfce",
   "metadata": {},
   "outputs": [
    {
     "name": "stdout",
     "output_type": "stream",
     "text": [
      "Please enter numbers one by one. Press Enter without any input to finish.\n"
     ]
    },
    {
     "name": "stdin",
     "output_type": "stream",
     "text": [
      "Enter a number (or press Enter to finish):  2\n",
      "Enter a number (or press Enter to finish):  3\n",
      "Enter a number (or press Enter to finish):  4\n",
      "Enter a number (or press Enter to finish):  g\n"
     ]
    },
    {
     "name": "stdout",
     "output_type": "stream",
     "text": [
      "Invalid input! Please enter a valid number.\n"
     ]
    },
    {
     "name": "stdin",
     "output_type": "stream",
     "text": [
      "Enter a number (or press Enter to finish):  5g\n"
     ]
    },
    {
     "name": "stdout",
     "output_type": "stream",
     "text": [
      "Invalid input! Please enter a valid number.\n"
     ]
    },
    {
     "name": "stdin",
     "output_type": "stream",
     "text": [
      "Enter a number (or press Enter to finish):  7\n",
      "Enter a number (or press Enter to finish):  \n"
     ]
    },
    {
     "name": "stdout",
     "output_type": "stream",
     "text": [
      "\n",
      "Your numbers: [2.0, 3.0, 4.0, 7.0]\n",
      "Sum: 16.0\n"
     ]
    }
   ],
   "source": [
    "def get_numbers_from_user():\n",
    "    numbers = []\n",
    "    while True:\n",
    "        try:\n",
    "            user_input = input(\"Enter a number (or press Enter to finish): \")\n",
    "            if user_input == \"\":\n",
    "                break\n",
    "            number = float(user_input)  # Using float to allow both integers and decimals\n",
    "            numbers.append(number)\n",
    "        except ValueError:\n",
    "            print(\"Invalid input! Please enter a valid number.\")\n",
    "    return numbers\n",
    "\n",
    "def sum_list(numbers):\n",
    "    return sum(numbers)\n",
    "\n",
    "# Get input from user\n",
    "print(\"Please enter numbers one by one. Press Enter without any input to finish.\")\n",
    "numbers = get_numbers_from_user()\n",
    "\n",
    "# Calculate and display result\n",
    "if numbers:\n",
    "    total = sum_list(numbers)\n",
    "    print(f\"\\nYour numbers: {numbers}\")\n",
    "    print(f\"Sum: {total}\")\n",
    "else:\n",
    "    print(\"\\nNo numbers were entered.\")"
   ]
  },
  {
   "cell_type": "code",
   "execution_count": null,
   "id": "81c3c51e-3c12-4c12-bc3e-76c316a7b3b4",
   "metadata": {},
   "outputs": [],
   "source": []
  }
 ],
 "metadata": {
  "kernelspec": {
   "display_name": "Python 3 (ipykernel)",
   "language": "python",
   "name": "python3"
  },
  "language_info": {
   "codemirror_mode": {
    "name": "ipython",
    "version": 3
   },
   "file_extension": ".py",
   "mimetype": "text/x-python",
   "name": "python",
   "nbconvert_exporter": "python",
   "pygments_lexer": "ipython3",
   "version": "3.12.4"
  }
 },
 "nbformat": 4,
 "nbformat_minor": 5
}
