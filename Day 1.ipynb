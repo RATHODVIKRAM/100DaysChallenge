{
 "cells": [
  {
   "cell_type": "code",
   "execution_count": 2,
   "id": "301e7b31-6c0c-4933-b6fe-bb98d1562ae7",
   "metadata": {},
   "outputs": [
    {
     "name": "stdout",
     "output_type": "stream",
     "text": [
      "Please enter numbers one by one. Press Enter without any input to finish.\n"
     ]
    },
    {
     "name": "stdin",
     "output_type": "stream",
     "text": [
      "Enter a number (or press Enter to finish):  23\n",
      "Enter a number (or press Enter to finish):  3\n",
      "Enter a number (or press Enter to finish):  3\n",
      "Enter a number (or press Enter to finish):  4\n",
      "Enter a number (or press Enter to finish):  t\n"
     ]
    },
    {
     "name": "stdout",
     "output_type": "stream",
     "text": [
      "Invalid input! Please enter a valid number.\n"
     ]
    },
    {
     "name": "stdin",
     "output_type": "stream",
     "text": [
      "Enter a number (or press Enter to finish):  vf\n"
     ]
    },
    {
     "name": "stdout",
     "output_type": "stream",
     "text": [
      "Invalid input! Please enter a valid number.\n"
     ]
    },
    {
     "name": "stdin",
     "output_type": "stream",
     "text": [
      "Enter a number (or press Enter to finish):  \n"
     ]
    },
    {
     "name": "stdout",
     "output_type": "stream",
     "text": [
      "\n",
      "Your numbers: [23.0, 3.0, 3.0, 4.0]\n",
      "Sum: 33.0\n"
     ]
    }
   ],
   "source": [
    "def get_numbers_from_user():\n",
    "    numbers = []\n",
    "    while True:\n",
    "        try:\n",
    "            user_input = input(\"Enter a number (or press Enter to finish): \")\n",
    "            if user_input == \"\":\n",
    "                break\n",
    "            number = float(user_input)  # Using float to allow both integers and decimals\n",
    "            numbers.append(number)\n",
    "        except ValueError:\n",
    "            print(\"Invalid input! Please enter a valid number.\")\n",
    "    return numbers\n",
    "\n",
    "def sum_list(numbers):\n",
    "    return sum(numbers)\n",
    "\n",
    "# Get input from user\n",
    "print(\"Please enter numbers one by one. Press Enter without any input to finish.\")\n",
    "numbers = get_numbers_from_user()\n",
    "\n",
    "# Calculate and display result\n",
    "if numbers:\n",
    "    total = sum_list(numbers)\n",
    "    print(f\"\\nYour numbers: {numbers}\")\n",
    "    print(f\"Sum: {total}\")\n",
    "else:\n",
    "    print(\"\\nNo numbers were entered.\")"
   ]
  },
  {
   "cell_type": "code",
   "execution_count": null,
   "id": "fed9ecc7-8735-47b7-8e03-c64f16321ae5",
   "metadata": {},
   "outputs": [],
   "source": []
  }
 ],
 "metadata": {
  "kernelspec": {
   "display_name": "Python 3 (ipykernel)",
   "language": "python",
   "name": "python3"
  },
  "language_info": {
   "codemirror_mode": {
    "name": "ipython",
    "version": 3
   },
   "file_extension": ".py",
   "mimetype": "text/x-python",
   "name": "python",
   "nbconvert_exporter": "python",
   "pygments_lexer": "ipython3",
   "version": "3.12.4"
  }
 },
 "nbformat": 4,
 "nbformat_minor": 5
}
