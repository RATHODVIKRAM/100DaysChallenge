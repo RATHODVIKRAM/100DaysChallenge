{
 "cells": [
  {
   "cell_type": "code",
   "execution_count": 2,
   "id": "1793cfc0-8bd5-4c0e-9282-59fa1d73d59b",
   "metadata": {},
   "outputs": [
    {
     "name": "stdin",
     "output_type": "stream",
     "text": [
      "enter numbers you want (or press enter to finish): 2\n",
      "enter numbers you want (or press enter to finish): 3\n",
      "enter numbers you want (or press enter to finish): d\n"
     ]
    },
    {
     "name": "stdout",
     "output_type": "stream",
     "text": [
      "Invalid input pleas enter correct input\n"
     ]
    },
    {
     "name": "stdin",
     "output_type": "stream",
     "text": [
      "enter numbers you want (or press enter to finish): g\n"
     ]
    },
    {
     "name": "stdout",
     "output_type": "stream",
     "text": [
      "Invalid input pleas enter correct input\n"
     ]
    },
    {
     "name": "stdin",
     "output_type": "stream",
     "text": [
      "enter numbers you want (or press enter to finish): 3\n",
      "enter numbers you want (or press enter to finish): 4\n",
      "enter numbers you want (or press enter to finish): 5\n",
      "enter numbers you want (or press enter to finish): t6\n"
     ]
    },
    {
     "name": "stdout",
     "output_type": "stream",
     "text": [
      "Invalid input pleas enter correct input\n"
     ]
    },
    {
     "name": "stdin",
     "output_type": "stream",
     "text": [
      "enter numbers you want (or press enter to finish): 6\n",
      "enter numbers you want (or press enter to finish): \n"
     ]
    },
    {
     "name": "stdout",
     "output_type": "stream",
     "text": [
      "original_list: [2.0, 3.0, 3.0, 4.0, 5.0, 6.0]\n",
      "multiple_value: [4, 9, 9, 16, 25, 36]\n"
     ]
    }
   ],
   "source": [
    "# Write a Python program to multiply all the items in a list\n",
    "\n",
    "def get_element_fromuser():\n",
    "    global lst\n",
    "    lst=[]\n",
    "    while True:\n",
    "        try:\n",
    "            user_input = input(\"enter numbers you want (or press enter to finish):\")\n",
    "            if user_input == '':\n",
    "                break\n",
    "            number = float(user_input)\n",
    "            lst.append(number)\n",
    "        except ValueError:\n",
    "            print(\"Invalid input pleas enter correct input\")\n",
    "    return lst\n",
    "\n",
    "def multiple():\n",
    "    multiply_value_list = []\n",
    "    for i in lst:\n",
    "        multiply_value_list.append(int(i)**2)\n",
    "    print(\"multiple_value: {}\".format(multiply_value_list))\n",
    "\n",
    "#main program\n",
    "original_list = get_element_fromuser()\n",
    "print(\"original_list: {}\".format(original_list))\n",
    "multiple()\n"
   ]
  },
  {
   "cell_type": "code",
   "execution_count": null,
   "id": "9be587d6-3d29-4d0f-a45f-cb2661d5eb61",
   "metadata": {},
   "outputs": [],
   "source": []
  }
 ],
 "metadata": {
  "kernelspec": {
   "display_name": "Python 3 (ipykernel)",
   "language": "python",
   "name": "python3"
  },
  "language_info": {
   "codemirror_mode": {
    "name": "ipython",
    "version": 3
   },
   "file_extension": ".py",
   "mimetype": "text/x-python",
   "name": "python",
   "nbconvert_exporter": "python",
   "pygments_lexer": "ipython3",
   "version": "3.12.4"
  }
 },
 "nbformat": 4,
 "nbformat_minor": 5
}
