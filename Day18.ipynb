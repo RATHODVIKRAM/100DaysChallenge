{
 "cells": [
  {
   "cell_type": "code",
   "execution_count": 6,
   "id": "75d2e9c9-6684-412a-a585-8df0766683e3",
   "metadata": {},
   "outputs": [
    {
     "name": "stdin",
     "output_type": "stream",
     "text": [
      "enter the value of list (or press enter to end): v\n",
      "enter the value of list (or press enter to end): i\n",
      "enter the value of list (or press enter to end): k\n",
      "enter the value of list (or press enter to end): r\n",
      "enter the value of list (or press enter to end): a\n",
      "enter the value of list (or press enter to end): m\n",
      "enter the value of list (or press enter to end): 2\n",
      "enter the value of list (or press enter to end): 0\n",
      "enter the value of list (or press enter to end): 2\n",
      "enter the value of list (or press enter to end): 4\n",
      "enter the value of list (or press enter to end): \n"
     ]
    },
    {
     "name": "stdout",
     "output_type": "stream",
     "text": [
      "list of value to check: ['v', 'i', 'k', 'r', 'a', 'm', '2', '0', '2', '4']\n"
     ]
    },
    {
     "name": "stdin",
     "output_type": "stream",
     "text": [
      "enter a value to check in the list d\n"
     ]
    },
    {
     "name": "stdout",
     "output_type": "stream",
     "text": [
      "Value doesn't Exists\n"
     ]
    }
   ],
   "source": [
    "# Write a Python program to check whether the n-th element exists in a given list.\n",
    "\n",
    "def list_values():\n",
    "    li = []\n",
    "    while True:\n",
    "        user_input = input(\"enter the value of list (or press enter to end):\")\n",
    "        if user_input == '':\n",
    "            break\n",
    "        li.append(user_input)\n",
    "    print(f\"list of value to check: {li}\")\n",
    "    element_to_check = input(\"enter a value to check in the list\")\n",
    "    for i in li:\n",
    "        if element_to_check == i:\n",
    "            print(\"Value Exists\")\n",
    "            break\n",
    "    else:\n",
    "        print(\"Value doesn't Exists\")\n",
    "\n",
    "list_values()"
   ]
  },
  {
   "cell_type": "code",
   "execution_count": null,
   "id": "7b2d6c91-708c-4c83-9712-a035aa912e01",
   "metadata": {},
   "outputs": [],
   "source": []
  }
 ],
 "metadata": {
  "kernelspec": {
   "display_name": "Python 3 (ipykernel)",
   "language": "python",
   "name": "python3"
  },
  "language_info": {
   "codemirror_mode": {
    "name": "ipython",
    "version": 3
   },
   "file_extension": ".py",
   "mimetype": "text/x-python",
   "name": "python",
   "nbconvert_exporter": "python",
   "pygments_lexer": "ipython3",
   "version": "3.12.4"
  }
 },
 "nbformat": 4,
 "nbformat_minor": 5
}
